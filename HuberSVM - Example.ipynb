{
 "cells": [
  {
   "cell_type": "markdown",
   "metadata": {},
   "source": [
    "This notebook demonstrates how to use the HuberSVM implementation within the scikit-learn framework and how to create the benchmarks results shown in [TODO: link paper]."
   ]
  },
  {
   "cell_type": "code",
   "execution_count": 1,
   "metadata": {
    "collapsed": true
   },
   "outputs": [],
   "source": [
    "from huber_svm import HuberSVC\n",
    "\n",
    "import pandas\n",
    "import numpy as np\n",
    "from sklearn.metrics import accuracy_score\n",
    "from sklearn.datasets import load_iris\n",
    "from sklearn.multiclass import OneVsRestClassifier\n",
    "from sklearn.linear_model import ElasticNet, Lasso, RidgeClassifier\n",
    "from sklearn.grid_search import GridSearchCV\n",
    "from sklearn.cross_validation import StratifiedKFold, cross_val_score\n",
    "from sklearn.preprocessing import scale"
   ]
  },
  {
   "cell_type": "markdown",
   "metadata": {},
   "source": [
    "Load the Iris dataset for benchmark."
   ]
  },
  {
   "cell_type": "code",
   "execution_count": 2,
   "metadata": {
    "collapsed": false
   },
   "outputs": [],
   "source": [
    "data = load_iris()\n",
    "\n",
    "X = scale(data['data'])\n",
    "y = data['target']\n",
    "\n",
    "idx = np.random.permutation(X.shape[0])\n",
    "X = X[idx]\n",
    "y = y[idx]"
   ]
  },
  {
   "cell_type": "markdown",
   "metadata": {},
   "source": [
    "We will compare the HuberSVM with $l_1$, $l_2$ and elastic-net-regularized SVMs. We will optimize the regularization parameters for each SVM in nested cross validation with an outer loop of five folds and stratified sampling for accuracy. "
   ]
  },
  {
   "cell_type": "code",
   "execution_count": 3,
   "metadata": {
    "collapsed": true
   },
   "outputs": [],
   "source": [
    "lasso = OneVsRestClassifier(Lasso())\n",
    "param_lasso = {'estimator__alpha': [100, 10, 1, 0.1, 1e-2, 1e-3]}\n",
    "\n",
    "elastic = OneVsRestClassifier(ElasticNet())\n",
    "param_elastic = {'estimator__alpha': [100, 10, 1, 0.1, 1e-2, 1e-3], \n",
    "                 'estimator__l1_ratio': np.linspace(0.01, 0.99, 5)}\n",
    "\n",
    "ridge = RidgeClassifier(solver='lsqr')\n",
    "param_ridge = {'alpha': [100, 10, 1, 0.1, 1e-2, 1e-3]}\n",
    "\n",
    "huber = OneVsRestClassifier(HuberSVC())\n",
    "param_huber = {'estimator__C': [100, 10, 1, 0.1, 1e-2, 1e-3], \n",
    "              'estimator__lambd': [100, 10, 1, 0.1, 1e-2, 1e-3], \n",
    "              'estimator__mu': [100, 10, 1, 0.1, 1e-2, 1e-3]}\n",
    "\n",
    "n_folds = 5\n",
    "param_folds = 3\n",
    "scoring = 'accuracy'"
   ]
  },
  {
   "cell_type": "markdown",
   "metadata": {},
   "source": [
    "Main benchmark loop over folds and SVMs."
   ]
  },
  {
   "cell_type": "code",
   "execution_count": 4,
   "metadata": {
    "collapsed": false
   },
   "outputs": [],
   "source": [
    "result_df = pandas.DataFrame()\n",
    "for i, (train_index, test_index) in enumerate(StratifiedKFold(y, n_folds=n_folds)):\n",
    "    for clf_name, clf, param_grid in [('Lasso', lasso, param_lasso), \n",
    "                                      ('ElasticNet', elastic, param_elastic), \n",
    "                                      ('Ridge', ridge, param_ridge), \n",
    "                                      ('HuberSVC', huber, param_huber)]:\n",
    "\n",
    "        gs = GridSearchCV(clf, param_grid, scoring=scoring, cv=param_folds, n_jobs=-1)\n",
    "        gs.fit(X[train_index], y[train_index])\n",
    "        best_clf = gs.best_estimator_\n",
    "\n",
    "        score = accuracy_score(y[test_index], best_clf.predict(X[test_index]))\n",
    "        result_df.loc[i, clf_name] = score"
   ]
  },
  {
   "cell_type": "markdown",
   "metadata": {},
   "source": [
    "The results show that the HuberSVM outperforms other regularized SVMs in each run and achieves the highest empirical accuracy."
   ]
  },
  {
   "cell_type": "code",
   "execution_count": 5,
   "metadata": {
    "collapsed": false
   },
   "outputs": [
    {
     "data": {
      "text/html": [
       "<div>\n",
       "<table border=\"1\" class=\"dataframe\">\n",
       "  <thead>\n",
       "    <tr style=\"text-align: right;\">\n",
       "      <th></th>\n",
       "      <th>Lasso</th>\n",
       "      <th>ElasticNet</th>\n",
       "      <th>Ridge</th>\n",
       "      <th>HuberSVC</th>\n",
       "    </tr>\n",
       "  </thead>\n",
       "  <tbody>\n",
       "    <tr>\n",
       "      <th>0</th>\n",
       "      <td>0.800</td>\n",
       "      <td>0.767</td>\n",
       "      <td>0.800</td>\n",
       "      <td>1.000</td>\n",
       "    </tr>\n",
       "    <tr>\n",
       "      <th>1</th>\n",
       "      <td>0.867</td>\n",
       "      <td>0.867</td>\n",
       "      <td>0.967</td>\n",
       "      <td>0.967</td>\n",
       "    </tr>\n",
       "    <tr>\n",
       "      <th>2</th>\n",
       "      <td>0.833</td>\n",
       "      <td>0.833</td>\n",
       "      <td>0.833</td>\n",
       "      <td>0.967</td>\n",
       "    </tr>\n",
       "    <tr>\n",
       "      <th>3</th>\n",
       "      <td>0.700</td>\n",
       "      <td>0.733</td>\n",
       "      <td>0.733</td>\n",
       "      <td>0.900</td>\n",
       "    </tr>\n",
       "    <tr>\n",
       "      <th>4</th>\n",
       "      <td>0.833</td>\n",
       "      <td>0.800</td>\n",
       "      <td>0.800</td>\n",
       "      <td>0.900</td>\n",
       "    </tr>\n",
       "    <tr>\n",
       "      <th>Mean</th>\n",
       "      <td>0.807</td>\n",
       "      <td>0.800</td>\n",
       "      <td>0.827</td>\n",
       "      <td>0.947</td>\n",
       "    </tr>\n",
       "  </tbody>\n",
       "</table>\n",
       "</div>"
      ],
      "text/plain": [
       "      Lasso  ElasticNet  Ridge  HuberSVC\n",
       "0     0.800       0.767  0.800     1.000\n",
       "1     0.867       0.867  0.967     0.967\n",
       "2     0.833       0.833  0.833     0.967\n",
       "3     0.700       0.733  0.733     0.900\n",
       "4     0.833       0.800  0.800     0.900\n",
       "Mean  0.807       0.800  0.827     0.947"
      ]
     },
     "execution_count": 5,
     "metadata": {},
     "output_type": "execute_result"
    }
   ],
   "source": [
    "result_df.loc['Mean'] = result_df.mean()\n",
    "pandas.options.display.float_format = '{:,.3f}'.format\n",
    "result_df"
   ]
  },
  {
   "cell_type": "code",
   "execution_count": null,
   "metadata": {
    "collapsed": true
   },
   "outputs": [],
   "source": [
    ""
   ]
  }
 ],
 "metadata": {
  "kernelspec": {
   "display_name": "Python 2",
   "language": "python",
   "name": "python2"
  },
  "language_info": {
   "codemirror_mode": {
    "name": "ipython",
    "version": 2.0
   },
   "file_extension": ".py",
   "mimetype": "text/x-python",
   "name": "python",
   "nbconvert_exporter": "python",
   "pygments_lexer": "ipython2",
   "version": "2.7.6"
  }
 },
 "nbformat": 4,
 "nbformat_minor": 0
}